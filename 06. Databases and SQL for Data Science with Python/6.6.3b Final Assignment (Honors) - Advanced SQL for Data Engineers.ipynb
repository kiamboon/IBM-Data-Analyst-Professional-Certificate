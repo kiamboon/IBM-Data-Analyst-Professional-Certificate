{
 "cells": [
  {
   "cell_type": "markdown",
   "metadata": {},
   "source": [
    "# Final Assignment (Honors) - Advanced SQL for Data Engineers"
   ]
  },
  {
   "cell_type": "code",
   "execution_count": 1,
   "metadata": {},
   "outputs": [
    {
     "name": "stdout",
     "output_type": "stream",
     "text": [
      "Collecting sqlalchemy==1.3.9\n",
      "\u001b[?25l  Downloading https://files.pythonhosted.org/packages/89/4e/f10fc5063d1048b3813c0caf99f06ec2b73851ae1a939feb85315dacb3fc/SQLAlchemy-1.3.9.tar.gz (6.0MB)\n",
      "\u001b[K     |████████████████████████████████| 6.0MB 16.9MB/s eta 0:00:01\n",
      "\u001b[?25hBuilding wheels for collected packages: sqlalchemy\n",
      "  Building wheel for sqlalchemy (setup.py) ... \u001b[?25ldone\n",
      "\u001b[?25h  Stored in directory: /home/jupyterlab/.cache/pip/wheels/23/84/f4/c15e90bd4c87e0377dad50e670f4535715550f6fc3be27ea0f\n",
      "Successfully built sqlalchemy\n",
      "Installing collected packages: sqlalchemy\n",
      "  Found existing installation: SQLAlchemy 1.4.13\n",
      "    Uninstalling SQLAlchemy-1.4.13:\n",
      "      Successfully uninstalled SQLAlchemy-1.4.13\n",
      "Successfully installed sqlalchemy-1.3.9\n",
      "Requirement already satisfied: ibm_db_sa in /home/jupyterlab/conda/envs/python/lib/python3.6/site-packages (0.3.3)\n",
      "Requirement already satisfied: sqlalchemy>=0.7.3 in /home/jupyterlab/conda/envs/python/lib/python3.6/site-packages (from ibm_db_sa) (1.3.9)\n"
     ]
    }
   ],
   "source": [
    "!pip install sqlalchemy==1.3.9\n",
    "!pip install ibm_db_sa"
   ]
  },
  {
   "cell_type": "code",
   "execution_count": 2,
   "metadata": {},
   "outputs": [],
   "source": [
    "%load_ext sql"
   ]
  },
  {
   "cell_type": "code",
   "execution_count": 3,
   "metadata": {},
   "outputs": [
    {
     "data": {
      "text/plain": [
       "'Connected: mnl95650@BLUDB'"
      ]
     },
     "execution_count": 3,
     "metadata": {},
     "output_type": "execute_result"
    }
   ],
   "source": [
    "%sql ibm_db_sa://mnl95650:7k6blf8%4034zgmxcj@dashdb-txn-sbox-yp-lon02-13.services.eu-gb.bluemix.net:50000/BLUDB"
   ]
  },
  {
   "cell_type": "markdown",
   "metadata": {},
   "source": [
    "---\n",
    "\n",
    "## E1Q1\n",
    "#### Write and execute a SQL query to list the school names, community names and average attendance for communities with a hardship index of 98."
   ]
  },
  {
   "cell_type": "code",
   "execution_count": 4,
   "metadata": {},
   "outputs": [
    {
     "name": "stdout",
     "output_type": "stream",
     "text": [
      " * ibm_db_sa://mnl95650:***@dashdb-txn-sbox-yp-lon02-13.services.eu-gb.bluemix.net:50000/BLUDB\n",
      "Done.\n"
     ]
    },
    {
     "data": {
      "text/html": [
       "<table>\n",
       "    <thead>\n",
       "        <tr>\n",
       "            <th>name_of_school</th>\n",
       "            <th>community_area_name</th>\n",
       "            <th>average_student_attendance</th>\n",
       "        </tr>\n",
       "    </thead>\n",
       "    <tbody>\n",
       "        <tr>\n",
       "            <td>George Washington Carver Military Academy High School</td>\n",
       "            <td>Riverdale</td>\n",
       "            <td>91.60%</td>\n",
       "        </tr>\n",
       "        <tr>\n",
       "            <td>George Washington Carver Primary School</td>\n",
       "            <td>Riverdale</td>\n",
       "            <td>90.90%</td>\n",
       "        </tr>\n",
       "        <tr>\n",
       "            <td>Ira F Aldridge Elementary School</td>\n",
       "            <td>Riverdale</td>\n",
       "            <td>92.90%</td>\n",
       "        </tr>\n",
       "        <tr>\n",
       "            <td>William E B Dubois Elementary School</td>\n",
       "            <td>Riverdale</td>\n",
       "            <td>93.30%</td>\n",
       "        </tr>\n",
       "    </tbody>\n",
       "</table>"
      ],
      "text/plain": [
       "[('George Washington Carver Military Academy High School', 'Riverdale', '91.60%'),\n",
       " ('George Washington Carver Primary School', 'Riverdale', '90.90%'),\n",
       " ('Ira F Aldridge Elementary School', 'Riverdale', '92.90%'),\n",
       " ('William E B Dubois Elementary School', 'Riverdale', '93.30%')]"
      ]
     },
     "execution_count": 4,
     "metadata": {},
     "output_type": "execute_result"
    }
   ],
   "source": [
    "%%sql\n",
    "\n",
    "SELECT CPS.NAME_OF_SCHOOL, CD.COMMUNITY_AREA_NAME, CPS.AVERAGE_STUDENT_ATTENDANCE\n",
    "FROM CHICAGO_PUBLIC_SCHOOLS AS CPS\n",
    "INNER JOIN CENSUS_DATA AS CD\n",
    "ON CPS.COMMUNITY_AREA_NUMBER = CD.COMMUNITY_AREA_NUMBER\n",
    "WHERE CD.HARDSHIP_INDEX = 98;"
   ]
  },
  {
   "cell_type": "markdown",
   "metadata": {},
   "source": [
    "## E1Q2\n",
    "#### Write and execute a SQL query to list all crimes that took place at a school. Include case number, crime type and community name."
   ]
  },
  {
   "cell_type": "code",
   "execution_count": 5,
   "metadata": {},
   "outputs": [
    {
     "name": "stdout",
     "output_type": "stream",
     "text": [
      " * ibm_db_sa://mnl95650:***@dashdb-txn-sbox-yp-lon02-13.services.eu-gb.bluemix.net:50000/BLUDB\n",
      "Done.\n"
     ]
    },
    {
     "data": {
      "text/html": [
       "<table>\n",
       "    <thead>\n",
       "        <tr>\n",
       "            <th>case_number</th>\n",
       "            <th>primary_type</th>\n",
       "            <th>community_area_name</th>\n",
       "        </tr>\n",
       "    </thead>\n",
       "    <tbody>\n",
       "        <tr>\n",
       "            <td>HK577020</td>\n",
       "            <td>NARCOTICS</td>\n",
       "            <td>Rogers Park</td>\n",
       "        </tr>\n",
       "        <tr>\n",
       "            <td>HL725506</td>\n",
       "            <td>BATTERY</td>\n",
       "            <td>Lincoln Square</td>\n",
       "        </tr>\n",
       "        <tr>\n",
       "            <td>HH639427</td>\n",
       "            <td>BATTERY</td>\n",
       "            <td>Austin</td>\n",
       "        </tr>\n",
       "        <tr>\n",
       "            <td>HS200939</td>\n",
       "            <td>CRIMINAL DAMAGE</td>\n",
       "            <td>Austin</td>\n",
       "        </tr>\n",
       "        <tr>\n",
       "            <td>HT315369</td>\n",
       "            <td>ASSAULT</td>\n",
       "            <td>East Garfield Park</td>\n",
       "        </tr>\n",
       "        <tr>\n",
       "            <td>HP716225</td>\n",
       "            <td>BATTERY</td>\n",
       "            <td>Douglas</td>\n",
       "        </tr>\n",
       "        <tr>\n",
       "            <td>HL353697</td>\n",
       "            <td>BATTERY</td>\n",
       "            <td>South Shore</td>\n",
       "        </tr>\n",
       "        <tr>\n",
       "            <td>HS305355</td>\n",
       "            <td>NARCOTICS</td>\n",
       "            <td>Brighton Park</td>\n",
       "        </tr>\n",
       "        <tr>\n",
       "            <td>JA460432</td>\n",
       "            <td>BATTERY</td>\n",
       "            <td>Ashburn</td>\n",
       "        </tr>\n",
       "        <tr>\n",
       "            <td>HR585012</td>\n",
       "            <td>CRIMINAL TRESPASS</td>\n",
       "            <td>Ashburn</td>\n",
       "        </tr>\n",
       "        <tr>\n",
       "            <td>HH292682</td>\n",
       "            <td>PUBLIC PEACE VIOLATION</td>\n",
       "            <td>None</td>\n",
       "        </tr>\n",
       "        <tr>\n",
       "            <td>G635735</td>\n",
       "            <td>PUBLIC PEACE VIOLATION</td>\n",
       "            <td>None</td>\n",
       "        </tr>\n",
       "    </tbody>\n",
       "</table>"
      ],
      "text/plain": [
       "[('HK577020', 'NARCOTICS', 'Rogers Park'),\n",
       " ('HL725506', 'BATTERY', 'Lincoln Square'),\n",
       " ('HH639427', 'BATTERY', 'Austin'),\n",
       " ('HS200939', 'CRIMINAL DAMAGE', 'Austin'),\n",
       " ('HT315369', 'ASSAULT', 'East Garfield Park'),\n",
       " ('HP716225', 'BATTERY', 'Douglas'),\n",
       " ('HL353697', 'BATTERY', 'South Shore'),\n",
       " ('HS305355', 'NARCOTICS', 'Brighton Park'),\n",
       " ('JA460432', 'BATTERY', 'Ashburn'),\n",
       " ('HR585012', 'CRIMINAL TRESPASS', 'Ashburn'),\n",
       " ('HH292682', 'PUBLIC PEACE VIOLATION', None),\n",
       " ('G635735', 'PUBLIC PEACE VIOLATION', None)]"
      ]
     },
     "execution_count": 5,
     "metadata": {},
     "output_type": "execute_result"
    }
   ],
   "source": [
    "%%sql\n",
    "\n",
    "SELECT CCD.CASE_NUMBER, CCD.PRIMARY_TYPE, CD.COMMUNITY_AREA_NAME\n",
    "FROM CHICAGO_CRIME_DATA AS CCD\n",
    "LEFT JOIN CENSUS_DATA AS CD\n",
    "ON CCD.COMMUNITY_AREA_NUMBER = CD.COMMUNITY_AREA_NUMBER\n",
    "WHERE CCD.LOCATION_DESCRIPTION LIKE '%SCHOOL%';"
   ]
  },
  {
   "cell_type": "markdown",
   "metadata": {},
   "source": [
    "## E2Q1\n",
    "#### Write and execute a SQL statement to create a view showing the columns listed in the following table, with new column names as shown in the second column"
   ]
  },
  {
   "cell_type": "code",
   "execution_count": 6,
   "metadata": {},
   "outputs": [
    {
     "name": "stdout",
     "output_type": "stream",
     "text": [
      " * ibm_db_sa://mnl95650:***@dashdb-txn-sbox-yp-lon02-13.services.eu-gb.bluemix.net:50000/BLUDB\n",
      "(ibm_db_dbi.ProgrammingError) ibm_db_dbi::ProgrammingError: Statement Execute Failed: [IBM][CLI Driver][DB2/LINUXX8664] SQL0601N  The name of the object to be created is identical to the existing name \"MNL95650.ICONS\" of type \"VIEW\".  SQLSTATE=42710 SQLCODE=-601\n",
      "[SQL: CREATE VIEW ICONS (\"School_Name\", \"Safety_Rating\", \"Family_Rating\",\"Environment_Rating\",\n",
      "\"Instruction_Rating\", \"Leaders_Rating\", \"Teachers_Rating\")\n",
      "AS SELECT \"NAME_OF_SCHOOL\", \"Safety_Icon\", \"Family_Involvement_Icon\", \"Environment_Icon\",\n",
      "\"Instruction_Icon\", \"Leaders_Icon\", \"Teachers_Icon\"\n",
      "FROM CHICAGO_PUBLIC_SCHOOLS;]\n",
      "(Background on this error at: http://sqlalche.me/e/f405)\n"
     ]
    }
   ],
   "source": [
    "%%sql\n",
    "\n",
    "CREATE VIEW ICONS (\"School_Name\", \"Safety_Rating\", \"Family_Rating\",\"Environment_Rating\",\n",
    "\"Instruction_Rating\", \"Leaders_Rating\", \"Teachers_Rating\")\n",
    "AS SELECT \"NAME_OF_SCHOOL\", \"Safety_Icon\", \"Family_Involvement_Icon\", \"Environment_Icon\",\n",
    "\"Instruction_Icon\", \"Leaders_Icon\", \"Teachers_Icon\"\n",
    "FROM CHICAGO_PUBLIC_SCHOOLS;\n",
    "\n",
    "SELECT * FROM ICONS;"
   ]
  },
  {
   "cell_type": "markdown",
   "metadata": {},
   "source": [
    "## E3Q1\n",
    "#### Write the structure of a query to create or replace a stored procedure called UPDATE_LEADERS_SCORE that takes a in_School_ID parameter as an integer and a in_Leader_Score parameter as an integer. Don't forget to use the #SET TERMINATOR statement to use the @ for the CREATE statement terminator."
   ]
  },
  {
   "cell_type": "code",
   "execution_count": 7,
   "metadata": {},
   "outputs": [
    {
     "name": "stdout",
     "output_type": "stream",
     "text": [
      " * ibm_db_sa://mnl95650:***@dashdb-txn-sbox-yp-lon02-13.services.eu-gb.bluemix.net:50000/BLUDB\n",
      "(ibm_db_dbi.ProgrammingError) ibm_db_dbi::ProgrammingError: Statement Execute Failed: [IBM][CLI Driver][DB2/LINUXX8664] SQL0104N  An unexpected token \"#SET TERMINATOR @\" was found following \"BEGIN-OF-STATEMENT\".  Expected tokens may include:  \"<space>\".  SQLSTATE=42601 SQLCODE=-104\n",
      "[SQL: #SET TERMINATOR @\n",
      "CREATE OR REPLACE PROCEDURE UPDATE_LEADERS_SCORE (\n",
      "IN in_School_ID INTEGER, IN in_Leader_Score INTEGER)\n",
      "\n",
      "LANGUAGE SQL\n",
      "\n",
      "BEGIN\n",
      "\n",
      "END @]\n",
      "(Background on this error at: http://sqlalche.me/e/f405)\n"
     ]
    }
   ],
   "source": [
    "%%sql\n",
    "\n",
    "#SET TERMINATOR @\n",
    "CREATE OR REPLACE PROCEDURE UPDATE_LEADERS_SCORE (\n",
    "IN in_School_ID INTEGER, IN in_Leader_Score INTEGER)\n",
    "\n",
    "LANGUAGE SQL\n",
    "\n",
    "BEGIN\n",
    "\n",
    "END @"
   ]
  },
  {
   "cell_type": "markdown",
   "metadata": {},
   "source": [
    "## E3Q2\n",
    "#### Inside your stored procedure, write a SQL statement to update the Leaders_Score field in the CHICAGO_PUBLIC_SCHOOLS table for the school identified by in_School_ID to the value in the in_Leader_Score parameter."
   ]
  },
  {
   "cell_type": "code",
   "execution_count": 8,
   "metadata": {},
   "outputs": [
    {
     "name": "stdout",
     "output_type": "stream",
     "text": [
      " * ibm_db_sa://mnl95650:***@dashdb-txn-sbox-yp-lon02-13.services.eu-gb.bluemix.net:50000/BLUDB\n",
      "Done.\n"
     ]
    },
    {
     "data": {
      "text/plain": [
       "[]"
      ]
     },
     "execution_count": 8,
     "metadata": {},
     "output_type": "execute_result"
    }
   ],
   "source": [
    "%%sql\n",
    "\n",
    "#SET TERMINATOR @\n",
    "CREATE OR REPLACE PROCEDURE UPDATE_LEADERS_SCORE (\n",
    "IN in_School_ID INTEGER, IN in_Leader_Score INTEGER)\n",
    "\n",
    "LANGUAGE SQL\n",
    "\n",
    "BEGIN\n",
    "\n",
    "    UPDATE CHICAGO_PUBLIC_SCHOOLS\n",
    "    SET \"Leaders_Score\" = in_Leader_Score\n",
    "    WHERE \"School_ID\" = in_School_ID;\n",
    "\n",
    "END @"
   ]
  },
  {
   "cell_type": "markdown",
   "metadata": {},
   "source": [
    "## E3Q3\n",
    "#### Inside your stored procedure, write a SQL IF statement to update the Leaders_Icon field in the CHICAGO_PUBLIC_SCHOOLS table for the school identified by in_School_ID using the following information."
   ]
  },
  {
   "cell_type": "code",
   "execution_count": 9,
   "metadata": {},
   "outputs": [
    {
     "name": "stdout",
     "output_type": "stream",
     "text": [
      " * ibm_db_sa://mnl95650:***@dashdb-txn-sbox-yp-lon02-13.services.eu-gb.bluemix.net:50000/BLUDB\n",
      "Done.\n"
     ]
    },
    {
     "data": {
      "text/plain": [
       "[]"
      ]
     },
     "execution_count": 9,
     "metadata": {},
     "output_type": "execute_result"
    }
   ],
   "source": [
    "%%sql\n",
    "\n",
    "#SET TERMINATOR @\n",
    "CREATE OR REPLACE PROCEDURE\n",
    "UPDATE_LEADERS_SCORE (\n",
    "    IN in_School_ID INTEGER, IN in_Leader_Score INTEGER)\n",
    "\n",
    "LANGUAGE SQL\n",
    "\n",
    "BEGIN\n",
    "\n",
    "    UPDATE CHICAGO_PUBLIC_SCHOOLS\n",
    "    SET \"Leaders_Score\" = in_Leader_Score\n",
    "    WHERE \"School_ID\" = in_School_ID;\n",
    "    \n",
    "    IF in_Leader_Score > 0 AND in_Leader_Score < 20 THEN\n",
    "    UPDATE CHICAGO_PUBLIC_SCHOOLS\n",
    "    SET \"Leaders_Icon\" = 'Very Weak';\n",
    "\n",
    "    ELSEIF in_Leader_Score < 40 THEN\n",
    "    UPDATE CHICAGO_PUBLIC_SCHOOLS\n",
    "    SET \"Leaders_Icon\" = 'Weak';\n",
    "\n",
    "    ELSEIF in_Leader_Score < 60 THEN\n",
    "    UPDATE CHICAGO_PUBLIC_SCHOOLS\n",
    "    SET \"Leaders_Icon\" = 'Average';\n",
    "\n",
    "    ELSEIF in_Leader_Score < 80 THEN\n",
    "    UPDATE CHICAGO_PUBLIC_SCHOOLS\n",
    "    SET \"Leaders_Icon\" = 'Strong';\n",
    "\n",
    "    ELSEIF in_Leader_Score < 100 THEN\n",
    "    UPDATE CHICAGO_PUBLIC_SCHOOLS\n",
    "    SET \"Leaders_Icon\" = 'Very Strong';\n",
    "\n",
    "END IF;\n",
    "\n",
    "END @"
   ]
  },
  {
   "cell_type": "markdown",
   "metadata": {},
   "source": [
    "## E3Q4\n",
    "#### Run your code to create the stored procedure."
   ]
  },
  {
   "cell_type": "code",
   "execution_count": 12,
   "metadata": {},
   "outputs": [
    {
     "name": "stdout",
     "output_type": "stream",
     "text": [
      " * ibm_db_sa://mnl95650:***@dashdb-txn-sbox-yp-lon02-13.services.eu-gb.bluemix.net:50000/BLUDB\n",
      "Done.\n"
     ]
    },
    {
     "data": {
      "text/plain": [
       "[]"
      ]
     },
     "execution_count": 12,
     "metadata": {},
     "output_type": "execute_result"
    }
   ],
   "source": [
    "%%sql\n",
    "\n",
    "CALL UPDATE_LEADERS_SCORE (610038, 35);"
   ]
  },
  {
   "cell_type": "code",
   "execution_count": 13,
   "metadata": {},
   "outputs": [
    {
     "name": "stdout",
     "output_type": "stream",
     "text": [
      " * ibm_db_sa://mnl95650:***@dashdb-txn-sbox-yp-lon02-13.services.eu-gb.bluemix.net:50000/BLUDB\n",
      "Done.\n"
     ]
    },
    {
     "data": {
      "text/html": [
       "<table>\n",
       "    <thead>\n",
       "        <tr>\n",
       "            <th>School_ID</th>\n",
       "            <th>Leaders_Score</th>\n",
       "            <th>Leaders_Icon</th>\n",
       "        </tr>\n",
       "    </thead>\n",
       "    <tbody>\n",
       "        <tr>\n",
       "            <td>610038</td>\n",
       "            <td>35</td>\n",
       "            <td>Weak</td>\n",
       "        </tr>\n",
       "        <tr>\n",
       "            <td>610281</td>\n",
       "            <td>63</td>\n",
       "            <td>Weak</td>\n",
       "        </tr>\n",
       "        <tr>\n",
       "            <td>610185</td>\n",
       "            <td>NDA</td>\n",
       "            <td>Weak</td>\n",
       "        </tr>\n",
       "        <tr>\n",
       "            <td>609993</td>\n",
       "            <td>65</td>\n",
       "            <td>Weak</td>\n",
       "        </tr>\n",
       "        <tr>\n",
       "            <td>610513</td>\n",
       "            <td>45</td>\n",
       "            <td>Weak</td>\n",
       "        </tr>\n",
       "    </tbody>\n",
       "</table>"
      ],
      "text/plain": [
       "[(610038, '35', 'Weak'),\n",
       " (610281, '63', 'Weak'),\n",
       " (610185, 'NDA', 'Weak'),\n",
       " (609993, '65', 'Weak'),\n",
       " (610513, '45', 'Weak')]"
      ]
     },
     "execution_count": 13,
     "metadata": {},
     "output_type": "execute_result"
    }
   ],
   "source": [
    "%%sql\n",
    "\n",
    "SELECT \"School_ID\", \"Leaders_Score\", \"Leaders_Icon\" FROM CHICAGO_PUBLIC_SCHOOLS LIMIT 5;"
   ]
  },
  {
   "cell_type": "markdown",
   "metadata": {},
   "source": [
    "## E4Q1\n",
    "#### Update your stored procedure definition. Add a generic ELSE clause to the IF statement that rolls back the current work if the score did not fit any of the preceding categories."
   ]
  },
  {
   "cell_type": "code",
   "execution_count": 14,
   "metadata": {},
   "outputs": [
    {
     "name": "stdout",
     "output_type": "stream",
     "text": [
      " * ibm_db_sa://mnl95650:***@dashdb-txn-sbox-yp-lon02-13.services.eu-gb.bluemix.net:50000/BLUDB\n",
      "Done.\n"
     ]
    },
    {
     "data": {
      "text/plain": [
       "[]"
      ]
     },
     "execution_count": 14,
     "metadata": {},
     "output_type": "execute_result"
    }
   ],
   "source": [
    "%%sql\n",
    "\n",
    "#SET TERMINATOR @\n",
    "CREATE OR REPLACE PROCEDURE\n",
    "UPDATE_LEADERS_SCORE (\n",
    "    IN in_School_ID INTEGER, IN in_Leader_Score VARCHAR(3))\n",
    "\n",
    "LANGUAGE SQL\n",
    "\n",
    "BEGIN\n",
    "\n",
    "    UPDATE CHICAGO_PUBLIC_SCHOOLS\n",
    "    SET \"Leaders_Score\" = in_Leader_Score\n",
    "    WHERE \"School_ID\" = in_School_ID;\n",
    "    \n",
    "    IF in_Leader_Score > 0 AND in_Leader_Score < 20 THEN\n",
    "    UPDATE CHICAGO_PUBLIC_SCHOOLS\n",
    "    SET \"Leaders_Icon\" = 'Very Weak';\n",
    "\n",
    "    ELSEIF in_Leader_Score < 40 THEN\n",
    "    UPDATE CHICAGO_PUBLIC_SCHOOLS\n",
    "    SET \"Leaders_Icon\" = 'Weak';\n",
    "\n",
    "    ELSEIF in_Leader_Score < 60 THEN\n",
    "    UPDATE CHICAGO_PUBLIC_SCHOOLS\n",
    "    SET \"Leaders_Icon\" = 'Average';\n",
    "\n",
    "    ELSEIF in_Leader_Score < 80 THEN\n",
    "    UPDATE CHICAGO_PUBLIC_SCHOOLS\n",
    "    SET \"Leaders_Icon\" = 'Strong';\n",
    "\n",
    "    ELSEIF in_Leader_Score < 100 THEN\n",
    "    UPDATE CHICAGO_PUBLIC_SCHOOLS\n",
    "    SET \"Leaders_Icon\" = 'Very Strong';\n",
    "    \n",
    "    ELSE ROLLBACK WORK;\n",
    "    \n",
    "END IF;\n",
    "\n",
    "END @"
   ]
  },
  {
   "cell_type": "markdown",
   "metadata": {},
   "source": [
    "## E4Q2\n",
    "#### Update your stored procedure definition again. Add a statement to commit the current unit of work at the end of the procedure."
   ]
  },
  {
   "cell_type": "code",
   "execution_count": 15,
   "metadata": {},
   "outputs": [
    {
     "name": "stdout",
     "output_type": "stream",
     "text": [
      " * ibm_db_sa://mnl95650:***@dashdb-txn-sbox-yp-lon02-13.services.eu-gb.bluemix.net:50000/BLUDB\n",
      "Done.\n"
     ]
    },
    {
     "data": {
      "text/plain": [
       "[]"
      ]
     },
     "execution_count": 15,
     "metadata": {},
     "output_type": "execute_result"
    }
   ],
   "source": [
    "%%sql\n",
    "\n",
    "#SET TERMINATOR @\n",
    "CREATE OR REPLACE PROCEDURE\n",
    "UPDATE_LEADERS_SCORE (\n",
    "    IN in_School_ID INTEGER, IN in_Leader_Score VARCHAR(3))\n",
    "\n",
    "LANGUAGE SQL\n",
    "\n",
    "BEGIN\n",
    "\n",
    "    UPDATE CHICAGO_PUBLIC_SCHOOLS\n",
    "    SET \"Leaders_Score\" = in_Leader_Score\n",
    "    WHERE \"School_ID\" = in_School_ID;\n",
    "    \n",
    "    IF in_Leader_Score > 0 AND in_Leader_Score < 20 THEN\n",
    "    UPDATE CHICAGO_PUBLIC_SCHOOLS\n",
    "    SET \"Leaders_Icon\" = 'Very Weak';\n",
    "\n",
    "    ELSEIF in_Leader_Score < 40 THEN\n",
    "    UPDATE CHICAGO_PUBLIC_SCHOOLS\n",
    "    SET \"Leaders_Icon\" = 'Weak';\n",
    "\n",
    "    ELSEIF in_Leader_Score < 60 THEN\n",
    "    UPDATE CHICAGO_PUBLIC_SCHOOLS\n",
    "    SET \"Leaders_Icon\" = 'Average';\n",
    "\n",
    "    ELSEIF in_Leader_Score < 80 THEN\n",
    "    UPDATE CHICAGO_PUBLIC_SCHOOLS\n",
    "    SET \"Leaders_Icon\" = 'Strong';\n",
    "\n",
    "    ELSEIF in_Leader_Score < 100 THEN\n",
    "    UPDATE CHICAGO_PUBLIC_SCHOOLS\n",
    "    SET \"Leaders_Icon\" = 'Very Strong';\n",
    "    \n",
    "    ELSE ROLLBACK WORK;\n",
    "    \n",
    "END IF;\n",
    "\n",
    "COMMIT WORK;\n",
    "\n",
    "END @"
   ]
  }
 ],
 "metadata": {
  "kernelspec": {
   "display_name": "Python 3",
   "language": "python",
   "name": "python3"
  },
  "language_info": {
   "codemirror_mode": {
    "name": "ipython",
    "version": 3
   },
   "file_extension": ".py",
   "mimetype": "text/x-python",
   "name": "python",
   "nbconvert_exporter": "python",
   "pygments_lexer": "ipython3",
   "version": "3.8.5"
  }
 },
 "nbformat": 4,
 "nbformat_minor": 5
}
